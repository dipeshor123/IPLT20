{
 "cells": [
  {
   "cell_type": "code",
   "execution_count": 1,
   "id": "a6683e41-25a0-4477-a7e0-02b085e07c70",
   "metadata": {},
   "outputs": [],
   "source": [
    "## Importing Library"
   ]
  },
  {
   "cell_type": "code",
   "execution_count": 2,
   "id": "59f9e640-b748-4436-80be-6d18b7ecbf1d",
   "metadata": {},
   "outputs": [],
   "source": [
    "from bs4 import BeautifulSoup\n",
    "import requests\n",
    "import pandas as pd"
   ]
  },
  {
   "cell_type": "code",
   "execution_count": 3,
   "id": "d9a366f6-ba70-4117-b15b-4273640bf4c6",
   "metadata": {},
   "outputs": [],
   "source": [
    "URL='https://www.iplt20.com/auction/2022' #URL from IPL Auction 2022"
   ]
  },
  {
   "cell_type": "code",
   "execution_count": 4,
   "id": "b15b9497-d7ec-4c5f-ac39-69979b3bd8a4",
   "metadata": {},
   "outputs": [],
   "source": [
    "# store the headers as a dict\n",
    "headers = ({'User-Agent': 'Mozilla/5.0 (Windows NT 10.0; Win64; x64) AppleWebKit/537.36 (KHTML, like Gecko) Chrome/114.0.0.0 Safari/537.36','Accept-Language': 'en-US,en;q=0.9'})"
   ]
  },
  {
   "cell_type": "code",
   "execution_count": 5,
   "id": "62a37eff-18cc-406e-a67b-a41f8c8c0aff",
   "metadata": {},
   "outputs": [
    {
     "data": {
      "text/plain": [
       "<Response [200]>"
      ]
     },
     "execution_count": 5,
     "metadata": {},
     "output_type": "execute_result"
    }
   ],
   "source": [
    "webpage=requests.get(URL,headers=headers)\n",
    "webpage # Checking the status of URL"
   ]
  },
  {
   "cell_type": "code",
   "execution_count": 6,
   "id": "edf7bc62-5d2f-4f91-b0dc-1b439260e32e",
   "metadata": {},
   "outputs": [
    {
     "data": {
      "text/plain": [
       "bytes"
      ]
     },
     "execution_count": 6,
     "metadata": {},
     "output_type": "execute_result"
    }
   ],
   "source": [
    "type(webpage.content) #content types"
   ]
  },
  {
   "cell_type": "code",
   "execution_count": 7,
   "id": "e5adedea-3012-482b-a4db-f8a424a33728",
   "metadata": {},
   "outputs": [],
   "source": [
    "#Soup containing all data\n",
    "soup=BeautifulSoup(webpage.content,'html.parser')"
   ]
  },
  {
   "cell_type": "code",
   "execution_count": 8,
   "id": "f9cde1da-5b9e-417d-9d1e-659ba6a3b117",
   "metadata": {},
   "outputs": [],
   "source": [
    "table=soup.find('table',class_='ih-td-tab auction-tbl') #finding all the table anchor"
   ]
  },
  {
   "cell_type": "code",
   "execution_count": 9,
   "id": "f19d9474-7800-4c13-800b-fcd32f4fed77",
   "metadata": {},
   "outputs": [
    {
     "data": {
      "text/plain": [
       "[<th class=\"skip-filter\" style=\"width:25%;text-align: left;\">TEAM</th>,\n",
       " <th class=\"skip-filter\" style=\"width:25%;\">FUNDS REMAINING</th>,\n",
       " <th class=\"skip-filter\" style=\"width:25%;\">OVERSEAS PLAYERS </th>,\n",
       " <th class=\"skip-filter\" style=\"width:25%;\">TOTAL PLAYERS</th>]"
      ]
     },
     "execution_count": 9,
     "metadata": {},
     "output_type": "execute_result"
    }
   ],
   "source": [
    "title=table.find_all('th') #finding all th inside table\n",
    "title"
   ]
  },
  {
   "cell_type": "code",
   "execution_count": 10,
   "id": "830bd567-8a78-4f72-b423-eb15e08fbcdb",
   "metadata": {},
   "outputs": [
    {
     "data": {
      "text/plain": [
       "['TEAM', 'FUNDS REMAINING', 'OVERSEAS PLAYERS ', 'TOTAL PLAYERS']"
      ]
     },
     "execution_count": 10,
     "metadata": {},
     "output_type": "execute_result"
    }
   ],
   "source": [
    "header=[] #filtering all table columns\n",
    "for i in title:\n",
    "    name=i.text\n",
    "    header.append(name)\n",
    "header"
   ]
  },
  {
   "cell_type": "code",
   "execution_count": 11,
   "id": "c0cf9de0-2f51-4dc8-b241-03694b158e82",
   "metadata": {},
   "outputs": [
    {
     "data": {
      "text/html": [
       "<div>\n",
       "<style scoped>\n",
       "    .dataframe tbody tr th:only-of-type {\n",
       "        vertical-align: middle;\n",
       "    }\n",
       "\n",
       "    .dataframe tbody tr th {\n",
       "        vertical-align: top;\n",
       "    }\n",
       "\n",
       "    .dataframe thead th {\n",
       "        text-align: right;\n",
       "    }\n",
       "</style>\n",
       "<table border=\"1\" class=\"dataframe\">\n",
       "  <thead>\n",
       "    <tr style=\"text-align: right;\">\n",
       "      <th></th>\n",
       "      <th>TEAM</th>\n",
       "      <th>FUNDS REMAINING</th>\n",
       "      <th>OVERSEAS PLAYERS</th>\n",
       "      <th>TOTAL PLAYERS</th>\n",
       "    </tr>\n",
       "  </thead>\n",
       "  <tbody>\n",
       "  </tbody>\n",
       "</table>\n",
       "</div>"
      ],
      "text/plain": [
       "Empty DataFrame\n",
       "Columns: [TEAM, FUNDS REMAINING, OVERSEAS PLAYERS , TOTAL PLAYERS]\n",
       "Index: []"
      ]
     },
     "execution_count": 11,
     "metadata": {},
     "output_type": "execute_result"
    }
   ],
   "source": [
    "df=pd.DataFrame(columns=header) #adding columns to DataFrame\n",
    "df"
   ]
  },
  {
   "cell_type": "code",
   "execution_count": 12,
   "id": "04759fae-e16b-400a-9ac1-c3c8318a34ce",
   "metadata": {},
   "outputs": [],
   "source": [
    "rows=table.find_all('tr') #finding all tr .i.e table rows"
   ]
  },
  {
   "cell_type": "code",
   "execution_count": 13,
   "id": "d76cb739-5543-4bff-a2b3-c8a6fc5601c3",
   "metadata": {},
   "outputs": [
    {
     "data": {
      "text/html": [
       "<div>\n",
       "<style scoped>\n",
       "    .dataframe tbody tr th:only-of-type {\n",
       "        vertical-align: middle;\n",
       "    }\n",
       "\n",
       "    .dataframe tbody tr th {\n",
       "        vertical-align: top;\n",
       "    }\n",
       "\n",
       "    .dataframe thead th {\n",
       "        text-align: right;\n",
       "    }\n",
       "</style>\n",
       "<table border=\"1\" class=\"dataframe\">\n",
       "  <thead>\n",
       "    <tr style=\"text-align: right;\">\n",
       "      <th></th>\n",
       "      <th>TEAM</th>\n",
       "      <th>FUNDS REMAINING</th>\n",
       "      <th>OVERSEAS PLAYERS</th>\n",
       "      <th>TOTAL PLAYERS</th>\n",
       "    </tr>\n",
       "  </thead>\n",
       "  <tbody>\n",
       "    <tr>\n",
       "      <th>0</th>\n",
       "      <td>\\n\\n\\n\\n\\nChennai Super Kings\\n\\n</td>\n",
       "      <td>₹2,95,00,000</td>\n",
       "      <td>8</td>\n",
       "      <td>25</td>\n",
       "    </tr>\n",
       "    <tr>\n",
       "      <th>1</th>\n",
       "      <td>\\n\\n\\n\\n\\nDelhi Capitals\\n\\n</td>\n",
       "      <td>₹10,00,000</td>\n",
       "      <td>7</td>\n",
       "      <td>24</td>\n",
       "    </tr>\n",
       "    <tr>\n",
       "      <th>2</th>\n",
       "      <td>\\n\\n\\n\\n\\nGujarat Titans\\n\\n</td>\n",
       "      <td>₹15,00,000</td>\n",
       "      <td>8</td>\n",
       "      <td>23</td>\n",
       "    </tr>\n",
       "    <tr>\n",
       "      <th>3</th>\n",
       "      <td>\\n\\n\\n\\n\\nKolkata Knight Riders\\n\\n</td>\n",
       "      <td>₹45,00,000</td>\n",
       "      <td>8</td>\n",
       "      <td>25</td>\n",
       "    </tr>\n",
       "    <tr>\n",
       "      <th>4</th>\n",
       "      <td>\\n\\n\\n\\n\\nLucknow Super Giants\\n\\n</td>\n",
       "      <td>₹0</td>\n",
       "      <td>7</td>\n",
       "      <td>21</td>\n",
       "    </tr>\n",
       "    <tr>\n",
       "      <th>5</th>\n",
       "      <td>\\n\\n\\n\\n\\nMumbai Indians\\n\\n</td>\n",
       "      <td>₹10,00,000</td>\n",
       "      <td>8</td>\n",
       "      <td>25</td>\n",
       "    </tr>\n",
       "    <tr>\n",
       "      <th>6</th>\n",
       "      <td>\\n\\n\\n\\n\\nPunjab Kings\\n\\n</td>\n",
       "      <td>₹3,45,00,000</td>\n",
       "      <td>7</td>\n",
       "      <td>25</td>\n",
       "    </tr>\n",
       "    <tr>\n",
       "      <th>7</th>\n",
       "      <td>\\n\\n\\n\\n\\nRajasthan Royals\\n\\n</td>\n",
       "      <td>₹95,00,000</td>\n",
       "      <td>8</td>\n",
       "      <td>24</td>\n",
       "    </tr>\n",
       "    <tr>\n",
       "      <th>8</th>\n",
       "      <td>\\n\\n\\n\\n\\nRoyal Challengers Bangalore\\n\\n</td>\n",
       "      <td>₹1,55,00,000</td>\n",
       "      <td>8</td>\n",
       "      <td>22</td>\n",
       "    </tr>\n",
       "    <tr>\n",
       "      <th>9</th>\n",
       "      <td>\\n\\n\\n\\n\\nSunrisers Hyderabad\\n\\n</td>\n",
       "      <td>₹10,00,000</td>\n",
       "      <td>8</td>\n",
       "      <td>23</td>\n",
       "    </tr>\n",
       "  </tbody>\n",
       "</table>\n",
       "</div>"
      ],
      "text/plain": [
       "                                        TEAM FUNDS REMAINING  \\\n",
       "0          \\n\\n\\n\\n\\nChennai Super Kings\\n\\n    ₹2,95,00,000   \n",
       "1               \\n\\n\\n\\n\\nDelhi Capitals\\n\\n      ₹10,00,000   \n",
       "2               \\n\\n\\n\\n\\nGujarat Titans\\n\\n      ₹15,00,000   \n",
       "3        \\n\\n\\n\\n\\nKolkata Knight Riders\\n\\n      ₹45,00,000   \n",
       "4         \\n\\n\\n\\n\\nLucknow Super Giants\\n\\n              ₹0   \n",
       "5               \\n\\n\\n\\n\\nMumbai Indians\\n\\n      ₹10,00,000   \n",
       "6                 \\n\\n\\n\\n\\nPunjab Kings\\n\\n    ₹3,45,00,000   \n",
       "7             \\n\\n\\n\\n\\nRajasthan Royals\\n\\n      ₹95,00,000   \n",
       "8  \\n\\n\\n\\n\\nRoyal Challengers Bangalore\\n\\n    ₹1,55,00,000   \n",
       "9          \\n\\n\\n\\n\\nSunrisers Hyderabad\\n\\n      ₹10,00,000   \n",
       "\n",
       "  OVERSEAS PLAYERS  TOTAL PLAYERS  \n",
       "0                 8            25  \n",
       "1                 7            24  \n",
       "2                 8            23  \n",
       "3                 8            25  \n",
       "4                 7            21  \n",
       "5                 8            25  \n",
       "6                 7            25  \n",
       "7                 8            24  \n",
       "8                 8            22  \n",
       "9                 8            23  "
      ]
     },
     "execution_count": 13,
     "metadata": {},
     "output_type": "execute_result"
    }
   ],
   "source": [
    "for i in rows[1:]:\n",
    "    data=i.find_all('td')\n",
    "    row=[tr.text for tr in data]\n",
    "    l=len(df)\n",
    "    df.loc[l]=row\n",
    "df #adding all the rows to the dataframe"
   ]
  },
  {
   "cell_type": "code",
   "execution_count": 14,
   "id": "a8cceff5-d4e2-493d-87cc-1e890b6afa27",
   "metadata": {},
   "outputs": [],
   "source": [
    "df['TEAM']=df['TEAM'].str.replace('\\n','') #Replacing the \\n from Team "
   ]
  },
  {
   "cell_type": "code",
   "execution_count": 15,
   "id": "df950ab1-1f32-496c-ae37-e0ba365c666b",
   "metadata": {},
   "outputs": [
    {
     "data": {
      "text/html": [
       "<div>\n",
       "<style scoped>\n",
       "    .dataframe tbody tr th:only-of-type {\n",
       "        vertical-align: middle;\n",
       "    }\n",
       "\n",
       "    .dataframe tbody tr th {\n",
       "        vertical-align: top;\n",
       "    }\n",
       "\n",
       "    .dataframe thead th {\n",
       "        text-align: right;\n",
       "    }\n",
       "</style>\n",
       "<table border=\"1\" class=\"dataframe\">\n",
       "  <thead>\n",
       "    <tr style=\"text-align: right;\">\n",
       "      <th></th>\n",
       "      <th>TEAM</th>\n",
       "      <th>FUNDS REMAINING</th>\n",
       "      <th>OVERSEAS PLAYERS</th>\n",
       "      <th>TOTAL PLAYERS</th>\n",
       "    </tr>\n",
       "  </thead>\n",
       "  <tbody>\n",
       "    <tr>\n",
       "      <th>0</th>\n",
       "      <td>Chennai Super Kings</td>\n",
       "      <td>₹2,95,00,000</td>\n",
       "      <td>8</td>\n",
       "      <td>25</td>\n",
       "    </tr>\n",
       "    <tr>\n",
       "      <th>1</th>\n",
       "      <td>Delhi Capitals</td>\n",
       "      <td>₹10,00,000</td>\n",
       "      <td>7</td>\n",
       "      <td>24</td>\n",
       "    </tr>\n",
       "    <tr>\n",
       "      <th>2</th>\n",
       "      <td>Gujarat Titans</td>\n",
       "      <td>₹15,00,000</td>\n",
       "      <td>8</td>\n",
       "      <td>23</td>\n",
       "    </tr>\n",
       "    <tr>\n",
       "      <th>3</th>\n",
       "      <td>Kolkata Knight Riders</td>\n",
       "      <td>₹45,00,000</td>\n",
       "      <td>8</td>\n",
       "      <td>25</td>\n",
       "    </tr>\n",
       "    <tr>\n",
       "      <th>4</th>\n",
       "      <td>Lucknow Super Giants</td>\n",
       "      <td>₹0</td>\n",
       "      <td>7</td>\n",
       "      <td>21</td>\n",
       "    </tr>\n",
       "    <tr>\n",
       "      <th>5</th>\n",
       "      <td>Mumbai Indians</td>\n",
       "      <td>₹10,00,000</td>\n",
       "      <td>8</td>\n",
       "      <td>25</td>\n",
       "    </tr>\n",
       "    <tr>\n",
       "      <th>6</th>\n",
       "      <td>Punjab Kings</td>\n",
       "      <td>₹3,45,00,000</td>\n",
       "      <td>7</td>\n",
       "      <td>25</td>\n",
       "    </tr>\n",
       "    <tr>\n",
       "      <th>7</th>\n",
       "      <td>Rajasthan Royals</td>\n",
       "      <td>₹95,00,000</td>\n",
       "      <td>8</td>\n",
       "      <td>24</td>\n",
       "    </tr>\n",
       "    <tr>\n",
       "      <th>8</th>\n",
       "      <td>Royal Challengers Bangalore</td>\n",
       "      <td>₹1,55,00,000</td>\n",
       "      <td>8</td>\n",
       "      <td>22</td>\n",
       "    </tr>\n",
       "    <tr>\n",
       "      <th>9</th>\n",
       "      <td>Sunrisers Hyderabad</td>\n",
       "      <td>₹10,00,000</td>\n",
       "      <td>8</td>\n",
       "      <td>23</td>\n",
       "    </tr>\n",
       "  </tbody>\n",
       "</table>\n",
       "</div>"
      ],
      "text/plain": [
       "                          TEAM FUNDS REMAINING OVERSEAS PLAYERS  TOTAL PLAYERS\n",
       "0          Chennai Super Kings    ₹2,95,00,000                 8            25\n",
       "1               Delhi Capitals      ₹10,00,000                 7            24\n",
       "2               Gujarat Titans      ₹15,00,000                 8            23\n",
       "3        Kolkata Knight Riders      ₹45,00,000                 8            25\n",
       "4         Lucknow Super Giants              ₹0                 7            21\n",
       "5               Mumbai Indians      ₹10,00,000                 8            25\n",
       "6                 Punjab Kings    ₹3,45,00,000                 7            25\n",
       "7             Rajasthan Royals      ₹95,00,000                 8            24\n",
       "8  Royal Challengers Bangalore    ₹1,55,00,000                 8            22\n",
       "9          Sunrisers Hyderabad      ₹10,00,000                 8            23"
      ]
     },
     "execution_count": 15,
     "metadata": {},
     "output_type": "execute_result"
    }
   ],
   "source": [
    "df"
   ]
  },
  {
   "cell_type": "code",
   "execution_count": null,
   "id": "d1ba9ded-4084-4e77-9394-66d8e03e799f",
   "metadata": {},
   "outputs": [],
   "source": []
  }
 ],
 "metadata": {
  "kernelspec": {
   "display_name": "Python 3 (ipykernel)",
   "language": "python",
   "name": "python3"
  },
  "language_info": {
   "codemirror_mode": {
    "name": "ipython",
    "version": 3
   },
   "file_extension": ".py",
   "mimetype": "text/x-python",
   "name": "python",
   "nbconvert_exporter": "python",
   "pygments_lexer": "ipython3",
   "version": "3.8.16"
  }
 },
 "nbformat": 4,
 "nbformat_minor": 5
}
